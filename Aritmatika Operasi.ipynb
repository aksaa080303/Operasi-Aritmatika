{
 "cells": [
  {
   "cell_type": "markdown",
   "id": "17c79904",
   "metadata": {},
   "source": [
    "Aritmatika Operasi"
   ]
  },
  {
   "cell_type": "code",
   "execution_count": 17,
   "id": "4e46bede",
   "metadata": {},
   "outputs": [
    {
     "name": "stdout",
     "output_type": "stream",
     "text": [
      "0\n"
     ]
    }
   ],
   "source": [
    "num1 = 3\n",
    "num2 = 10\n",
    "\n",
    "jumlah = num1 + num2\n",
    "kurang = num1 - num2\n",
    "kali = num1 * num2\n",
    "bagi = num1 / num2\n",
    "bagi_bulat = num1 // num2\n",
    "pangkat = num1 ** num2\n",
    "modulus = num1 % num2\n",
    "print(bagi_bulat)\n"
   ]
  },
  {
   "cell_type": "code",
   "execution_count": 12,
   "id": "0de1caa6",
   "metadata": {},
   "outputs": [
    {
     "name": "stdout",
     "output_type": "stream",
     "text": [
      "15\n",
      "11\n",
      "22\n"
     ]
    }
   ],
   "source": [
    "x = 5 #assignment operator\n",
    "x +=10 # x = - 10 => 15\n",
    "print(x)\n",
    "x -=4 # x = - 4 => 11\n",
    "print(x)\n",
    "x *=2 # x = x * 2 => 22\n",
    "print(x)\n",
    "x /= 3 # x = x / 3 => 7"
   ]
  },
  {
   "cell_type": "code",
   "execution_count": 8,
   "id": "05eec26a",
   "metadata": {},
   "outputs": [
    {
     "name": "stdout",
     "output_type": "stream",
     "text": [
      "True\n"
     ]
    }
   ],
   "source": [
    "bil1 = 8\n",
    "bil2 = 7\n",
    "\n",
    "is_equal = bil1 == bil2\n",
    "is_not_equal = bil1 != bil2\n",
    "is_greater_than = bil1 > bil2\n",
    "is_less_than = bil1 < bil2\n",
    "is_greater_equal = bil1>= bil2\n",
    "is_less_equal = bil1 <= bil2\n",
    "print(is_not_equal)"
   ]
  },
  {
   "cell_type": "code",
   "execution_count": 16,
   "id": "c88ed429",
   "metadata": {},
   "outputs": [
    {
     "name": "stdout",
     "output_type": "stream",
     "text": [
      "True\n",
      "True\n"
     ]
    }
   ],
   "source": [
    "var1 = 4\n",
    "var2 = 10\n",
    "\n",
    "opr_and = var1 < var2 and var1 <=4 #True\n",
    "opr_or = var1 >= var2 or var1 % 2==1 #False\n",
    "opr_not = not opr_or\n",
    "print(opr_and)\n",
    "print(opr_not)"
   ]
  },
  {
   "cell_type": "code",
   "execution_count": 19,
   "id": "219017a1",
   "metadata": {},
   "outputs": [
    {
     "name": "stdout",
     "output_type": "stream",
     "text": [
      "True\n",
      "False\n"
     ]
    }
   ],
   "source": [
    "fruits = [\"apel\",\"manggu\",\"wijit\"]\n",
    "my_favorite_fruits = fruits\n",
    "your_favorite = [\"apel\",\"manggu\",\"wijit\"]\n",
    "print(fruits is my_favorite_fruits)\n",
    "print(fruits is your_favorite)"
   ]
  },
  {
   "cell_type": "code",
   "execution_count": 21,
   "id": "5a2fb938",
   "metadata": {},
   "outputs": [
    {
     "name": "stdout",
     "output_type": "stream",
     "text": [
      "True\n",
      "False\n"
     ]
    }
   ],
   "source": [
    "student_names = [\"asensio\",\"benzema\",\"crono\"]\n",
    "print(\"benzema\" in student_names)\n",
    "print(\"crono\" not in student_names)"
   ]
  },
  {
   "cell_type": "code",
   "execution_count": null,
   "id": "8ddef023",
   "metadata": {},
   "outputs": [],
   "source": []
  }
 ],
 "metadata": {
  "kernelspec": {
   "display_name": "Python 3 (ipykernel)",
   "language": "python",
   "name": "python3"
  },
  "language_info": {
   "codemirror_mode": {
    "name": "ipython",
    "version": 3
   },
   "file_extension": ".py",
   "mimetype": "text/x-python",
   "name": "python",
   "nbconvert_exporter": "python",
   "pygments_lexer": "ipython3",
   "version": "3.9.12"
  }
 },
 "nbformat": 4,
 "nbformat_minor": 5
}
